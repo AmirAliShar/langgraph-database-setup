{
 "cells": [
  {
   "cell_type": "code",
   "execution_count": 3,
   "id": "8de8f6d2",
   "metadata": {},
   "outputs": [
    {
     "name": "stdout",
     "output_type": "stream",
     "text": [
      "✅ Custom tables created using SQLAlchemy!\n",
      "   - my_app_memories\n",
      "   - my_app_checkpoints\n"
     ]
    }
   ],
   "source": [
    "from sqlalchemy import create_engine, Table, Column, Text, JSON, TIMESTAMP, Integer, String, MetaData, ForeignKey, Index\n",
    "from sqlalchemy.sql import func\n",
    "\n",
    "import os\n",
    "from dotenv import load_dotenv\n",
    "load_dotenv()\n",
    "# Database connection parameters\n",
    "PG_HOST = os.environ.get(\"PGHOST\")\n",
    "PG_USER = os.environ.get(\"PGUSER\")\n",
    "PG_PASSWORD = os.environ.get(\"PGPASSWORD\")\n",
    "PG_DATABASE = os.environ.get(\"PGDATABASE\")\n",
    "PG_PORT = os.environ.get(\"PGPORT\", \"5432\")\n",
    "\n",
    "# Database connection\n",
    "DB_URI = f\"postgresql://{PG_USER}:{PG_PASSWORD}@{PG_HOST}:{PG_PORT}/{PG_DATABASE}\"\n",
    "\n",
    "def create_custom_tables_with_sqlalchemy():\n",
    "    \"\"\"Create custom tables using SQLAlchemy\"\"\"\n",
    "    try:\n",
    "        # Create SQLAlchemy engine\n",
    "        engine = create_engine(DB_URI)\n",
    "        metadata = MetaData()\n",
    "        \n",
    "        # Define custom memory store table\n",
    "        custom_memory_store = Table(\n",
    "            'my_app_memoriesSQL', metadata,\n",
    "            Column('key', Text, primary_key=True),\n",
    "            Column('namespace', Text, nullable=False),\n",
    "            Column('value', JSON, nullable=False),\n",
    "            Column('created_at', TIMESTAMP, server_default=func.now()),\n",
    "            Column('updated_at', TIMESTAMP, server_default=func.now(), onupdate=func.now()),\n",
    "            Index('idx_my_app_memories_namespaceSQL', 'namespace')\n",
    "        )\n",
    "        \n",
    "        # Define custom checkpoints table\n",
    "        custom_checkpoints = Table(\n",
    "            'my_app_checkpointsSQL', metadata,\n",
    "            Column('id', Integer, primary_key=True, autoincrement=True),\n",
    "            Column('thread_id', String(255), nullable=False),\n",
    "            Column('checkpoint', JSON, nullable=False),\n",
    "            Column('parent_checkpoint', Integer, ForeignKey('my_app_checkpointsSQL.id')),\n",
    "            Column('created_at', TIMESTAMP, server_default=func.now()),\n",
    "            Column('metadata', JSON),\n",
    "            Index('idx_my_app_checkpoints_thread_idSQL', 'thread_id')\n",
    "        )\n",
    "        \n",
    "        # Create all tables\n",
    "        metadata.create_all(engine)\n",
    "        print(\"✅ Custom tables created using SQLAlchemy!\")\n",
    "        print(\"   - my_app_memories\")\n",
    "        print(\"   - my_app_checkpoints\")\n",
    "        \n",
    "    except Exception as e:\n",
    "        print(f\"❌ Error creating tables with SQLAlchemy: {e}\")\n",
    "\n",
    "# Create the custom tables\n",
    "create_custom_tables_with_sqlalchemy()"
   ]
  }
 ],
 "metadata": {
  "kernelspec": {
   "display_name": "GenAI",
   "language": "python",
   "name": "python3"
  },
  "language_info": {
   "codemirror_mode": {
    "name": "ipython",
    "version": 3
   },
   "file_extension": ".py",
   "mimetype": "text/x-python",
   "name": "python",
   "nbconvert_exporter": "python",
   "pygments_lexer": "ipython3",
   "version": "3.12.11"
  }
 },
 "nbformat": 4,
 "nbformat_minor": 5
}
