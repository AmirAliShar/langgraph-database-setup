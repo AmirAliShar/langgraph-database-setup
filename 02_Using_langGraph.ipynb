{
 "cells": [
  {
   "cell_type": "markdown",
   "id": "05169f70",
   "metadata": {},
   "source": [
    "# Creating only checkpoint table"
   ]
  },
  {
   "cell_type": "code",
   "execution_count": 1,
   "id": "6b858b70",
   "metadata": {},
   "outputs": [
    {
     "name": "stdout",
     "output_type": "stream",
     "text": [
      "✅ Database setup completed using LangGraph's setup method!\n"
     ]
    }
   ],
   "source": [
    "from langgraph.checkpoint.postgres import PostgresSaver\n",
    "import os\n",
    "from dotenv import load_dotenv\n",
    "load_dotenv()\n",
    "# Database connection parameters\n",
    "PG_HOST = os.environ.get(\"PGHOST\")\n",
    "PG_USER = os.environ.get(\"PGUSER\")\n",
    "PG_PASSWORD = os.environ.get(\"PGPASSWORD\")\n",
    "PG_DATABASE = os.environ.get(\"PGDATABASE\")\n",
    "PG_PORT = os.environ.get(\"PGPORT\", \"5432\")\n",
    "\n",
    "DB_URI = f\"postgresql://{PG_USER}:{PG_PASSWORD}@{PG_HOST}:{PG_PORT}/{PG_DATABASE}\"\n",
    "\n",
    "def setup_database_with_langgraph():\n",
    "    \"\"\"\n",
    "    Use LangGraph's built-in setup method to create the table\n",
    "    \"\"\"\n",
    "    try:\n",
    "        with PostgresSaver.from_conn_string(DB_URI) as checkpointer:\n",
    "            # This should create the table with the correct structure\n",
    "            checkpointer.setup()\n",
    "            print(\"✅ Database setup completed using LangGraph's setup method!\")\n",
    "    except Exception as e:\n",
    "        print(f\"❌ Error setting up database with LangGraph: {e}\")\n",
    "\n",
    "if __name__ == \"__main__\":\n",
    "    setup_database_with_langgraph()"
   ]
  },
  {
   "cell_type": "code",
   "execution_count": null,
   "id": "d2305deb",
   "metadata": {},
   "outputs": [
    {
     "name": "stdout",
     "output_type": "stream",
     "text": [
      "✅ Database tables created successfully!\n"
     ]
    }
   ],
   "source": [
    "from langgraph.store.postgres import PostgresStore\n",
    "\n",
    "# Database connection\n",
    "\n",
    "def setup_database():\n",
    "    \"\"\"Setup database tables before running the graph\"\"\"\n",
    "    with (\n",
    "        PostgresStore.from_conn_string(DB_URI) as store,\n",
    "        PostgresSaver.from_conn_string(DB_URI) as checkpointer,\n",
    "    ):\n",
    "        store.setup()  # Creates the 'store' table\n",
    "        checkpointer.setup()  # Creates the checkpoint tables\n",
    "        print(\"✅ Database tables created successfully!\")\n",
    "\n",
    "# Run this once to setup the database\n",
    "setup_database()"
   ]
  },
  {
   "cell_type": "markdown",
   "id": "fd00d9d6",
   "metadata": {},
   "source": [
    "# Multiple Custom Tables for Different Purposes"
   ]
  },
  {
   "cell_type": "code",
   "execution_count": 4,
   "id": "a7fe55c8",
   "metadata": {},
   "outputs": [],
   "source": [
    "\n",
    "# Different table names for different purposes\n",
    "USER_MEMORIES_TABLE = \"user_memories_table\"\n",
    "SYSTEM_SETTINGS_TABLE = \"system_settings_table\"\n",
    "CONVERSATION_HISTORY_TABLE = \"conv_history_table\"\n",
    "\n",
    "def setup_multiple_custom_tables():\n",
    "    \"\"\"Setup multiple custom tables for different purposes\"\"\"\n",
    "    \n",
    "    # Setup user memories store\n",
    "    user_store = PostgresStore.from_conn_string(\n",
    "        DB_URI, \n",
    "        table_name=USER_MEMORIES_TABLE\n",
    "    )\n",
    "    \n",
    "    # Setup system settings store (different table)\n",
    "    system_store = PostgresStore.from_conn_string(\n",
    "        DB_URI, \n",
    "        table_name=SYSTEM_SETTINGS_TABLE\n",
    "    )\n",
    "    \n",
    "    # Setup checkpoints with custom name\n",
    "    checkpointer = PostgresSaver.from_conn_string(\n",
    "        DB_URI,\n",
    "        checkpoints_table=CONVERSATION_HISTORY_TABLE\n",
    "    )\n",
    "    \n",
    "    with user_store, system_store, checkpointer:\n",
    "        user_store.setup()\n",
    "        system_store.setup()\n",
    "        checkpointer.setup()\n",
    "        print(\"✅ Multiple custom tables created!\")"
   ]
  }
 ],
 "metadata": {
  "kernelspec": {
   "display_name": "GenAI",
   "language": "python",
   "name": "python3"
  },
  "language_info": {
   "codemirror_mode": {
    "name": "ipython",
    "version": 3
   },
   "file_extension": ".py",
   "mimetype": "text/x-python",
   "name": "python",
   "nbconvert_exporter": "python",
   "pygments_lexer": "ipython3",
   "version": "3.12.11"
  }
 },
 "nbformat": 4,
 "nbformat_minor": 5
}
